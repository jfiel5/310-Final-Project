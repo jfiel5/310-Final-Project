{
 "cells": [
  {
   "cell_type": "code",
   "execution_count": 8,
   "id": "8344ad7b",
   "metadata": {},
   "outputs": [
    {
     "name": "stdout",
     "output_type": "stream",
     "text": [
      "Requirement already satisfied: selenium in /opt/anaconda3/envs/is310/lib/python3.9/site-packages (4.31.0)\n",
      "Requirement already satisfied: urllib3<3,>=1.26 in /opt/anaconda3/envs/is310/lib/python3.9/site-packages (from urllib3[socks]<3,>=1.26->selenium) (2.3.0)\n",
      "Requirement already satisfied: trio~=0.17 in /opt/anaconda3/envs/is310/lib/python3.9/site-packages (from selenium) (0.30.0)\n",
      "Requirement already satisfied: trio-websocket~=0.9 in /opt/anaconda3/envs/is310/lib/python3.9/site-packages (from selenium) (0.12.2)\n",
      "Requirement already satisfied: certifi>=2021.10.8 in /opt/anaconda3/envs/is310/lib/python3.9/site-packages (from selenium) (2024.12.14)\n",
      "Requirement already satisfied: typing_extensions~=4.9 in /opt/anaconda3/envs/is310/lib/python3.9/site-packages (from selenium) (4.12.2)\n",
      "Requirement already satisfied: websocket-client~=1.8 in /opt/anaconda3/envs/is310/lib/python3.9/site-packages (from selenium) (1.8.0)\n",
      "Requirement already satisfied: attrs>=23.2.0 in /opt/anaconda3/envs/is310/lib/python3.9/site-packages (from trio~=0.17->selenium) (24.3.0)\n",
      "Requirement already satisfied: sortedcontainers in /opt/anaconda3/envs/is310/lib/python3.9/site-packages (from trio~=0.17->selenium) (2.4.0)\n",
      "Requirement already satisfied: idna in /opt/anaconda3/envs/is310/lib/python3.9/site-packages (from trio~=0.17->selenium) (3.7)\n",
      "Requirement already satisfied: outcome in /opt/anaconda3/envs/is310/lib/python3.9/site-packages (from trio~=0.17->selenium) (1.3.0.post0)\n",
      "Requirement already satisfied: sniffio>=1.3.0 in /opt/anaconda3/envs/is310/lib/python3.9/site-packages (from trio~=0.17->selenium) (1.3.0)\n",
      "Requirement already satisfied: exceptiongroup in /opt/anaconda3/envs/is310/lib/python3.9/site-packages (from trio~=0.17->selenium) (1.2.0)\n",
      "Requirement already satisfied: wsproto>=0.14 in /opt/anaconda3/envs/is310/lib/python3.9/site-packages (from trio-websocket~=0.9->selenium) (1.2.0)\n",
      "Requirement already satisfied: pysocks!=1.5.7,<2.0,>=1.5.6 in /opt/anaconda3/envs/is310/lib/python3.9/site-packages (from urllib3[socks]<3,>=1.26->selenium) (1.7.1)\n",
      "Requirement already satisfied: h11<1,>=0.9.0 in /opt/anaconda3/envs/is310/lib/python3.9/site-packages (from wsproto>=0.14->trio-websocket~=0.9->selenium) (0.14.0)\n",
      "Requirement already satisfied: lxml in /opt/anaconda3/envs/is310/lib/python3.9/site-packages (5.4.0)\n",
      "Requirement already satisfied: webdriver-manager in /opt/anaconda3/envs/is310/lib/python3.9/site-packages (4.0.2)\n",
      "Requirement already satisfied: requests in /opt/anaconda3/envs/is310/lib/python3.9/site-packages (from webdriver-manager) (2.32.3)\n",
      "Requirement already satisfied: python-dotenv in /opt/anaconda3/envs/is310/lib/python3.9/site-packages (from webdriver-manager) (1.1.0)\n",
      "Requirement already satisfied: packaging in /opt/anaconda3/envs/is310/lib/python3.9/site-packages (from webdriver-manager) (24.2)\n",
      "Requirement already satisfied: charset-normalizer<4,>=2 in /opt/anaconda3/envs/is310/lib/python3.9/site-packages (from requests->webdriver-manager) (3.3.2)\n",
      "Requirement already satisfied: idna<4,>=2.5 in /opt/anaconda3/envs/is310/lib/python3.9/site-packages (from requests->webdriver-manager) (3.7)\n",
      "Requirement already satisfied: urllib3<3,>=1.21.1 in /opt/anaconda3/envs/is310/lib/python3.9/site-packages (from requests->webdriver-manager) (2.3.0)\n",
      "Requirement already satisfied: certifi>=2017.4.17 in /opt/anaconda3/envs/is310/lib/python3.9/site-packages (from requests->webdriver-manager) (2024.12.14)\n"
     ]
    }
   ],
   "source": [
    "!pip install selenium\n",
    "!pip install lxml\n",
    "!pip install webdriver-manager\n"
   ]
  },
  {
   "cell_type": "code",
   "execution_count": 9,
   "id": "1a47a075",
   "metadata": {},
   "outputs": [],
   "source": [
    "from selenium import webdriver \n",
    "from selenium.webdriver.common.by import By\n"
   ]
  },
  {
   "cell_type": "code",
   "execution_count": null,
   "id": "94f28975",
   "metadata": {},
   "outputs": [
    {
     "name": "stderr",
     "output_type": "stream",
     "text": [
      "/var/folders/q3/8qym1tc95f7cd10lgyrzk_7c0000gn/T/ipykernel_24440/3863427539.py:39: FutureWarning: Passing literal html to 'read_html' is deprecated and will be removed in a future version. To read from a literal string, wrap it in a 'StringIO' object.\n",
      "  df = pd.read_html(str(table))[0]\n",
      "/var/folders/q3/8qym1tc95f7cd10lgyrzk_7c0000gn/T/ipykernel_24440/3863427539.py:39: FutureWarning: Passing literal html to 'read_html' is deprecated and will be removed in a future version. To read from a literal string, wrap it in a 'StringIO' object.\n",
      "  df = pd.read_html(str(table))[0]\n",
      "/var/folders/q3/8qym1tc95f7cd10lgyrzk_7c0000gn/T/ipykernel_24440/3863427539.py:39: FutureWarning: Passing literal html to 'read_html' is deprecated and will be removed in a future version. To read from a literal string, wrap it in a 'StringIO' object.\n",
      "  df = pd.read_html(str(table))[0]\n",
      "/var/folders/q3/8qym1tc95f7cd10lgyrzk_7c0000gn/T/ipykernel_24440/3863427539.py:39: FutureWarning: Passing literal html to 'read_html' is deprecated and will be removed in a future version. To read from a literal string, wrap it in a 'StringIO' object.\n",
      "  df = pd.read_html(str(table))[0]\n",
      "/var/folders/q3/8qym1tc95f7cd10lgyrzk_7c0000gn/T/ipykernel_24440/3863427539.py:39: FutureWarning: Passing literal html to 'read_html' is deprecated and will be removed in a future version. To read from a literal string, wrap it in a 'StringIO' object.\n",
      "  df = pd.read_html(str(table))[0]\n"
     ]
    },
    {
     "name": "stdout",
     "output_type": "stream",
     "text": [
      "   Traditional Splits                      Unnamed: 5_level_0  \\\n",
      "              By Year TEAM  GP   MIN   PTS                FGM   \n",
      "0             2024-25  LAL  70  2444  1710                651   \n",
      "1             2023-24  LAL  71  2504  1822                685   \n",
      "2             2022-23  LAL  55  1954  1590                609   \n",
      "3             2021-22  LAL  56  2084  1695                640   \n",
      "4             2020-21  LAL  45  1504  1126                422   \n",
      "5             2019-20  LAL  67  2316  1698                643   \n",
      "6             2018-19  LAL  55  1937  1505                558   \n",
      "7             2017-18  CLE  82  3026  2251                857   \n",
      "8             2016-17  CLE  74  2795  1954                736   \n",
      "9             2015-16  CLE  76  2709  1920                737   \n",
      "10            2014-15  CLE  69  2493  1743                624   \n",
      "11            2013-14  MIA  77  2902  2089                767   \n",
      "12            2012-13  MIA  76  2877  2036                765   \n",
      "13            2011-12  MIA  62  2326  1683                621   \n",
      "14            2010-11  MIA  79  3063  2111                758   \n",
      "15            2009-10  CLE  76  2966  2258                768   \n",
      "16            2008-09  CLE  81  3054  2304                789   \n",
      "17            2007-08  CLE  75  3027  2250                794   \n",
      "18            2006-07  CLE  78  3190  2132                772   \n",
      "19            2005-06  CLE  79  3361  2478                875   \n",
      "20            2004-05  CLE  80  3384  2175                795   \n",
      "21            2003-04  CLE  79  3127  1654                622   \n",
      "\n",
      "   Unnamed: 6_level_0 Unnamed: 7_level_0 Unnamed: 8_level_0  \\\n",
      "                  FGA                FG%                3PM   \n",
      "0                1270               51.3                149   \n",
      "1                1269               54.0                149   \n",
      "2                1219               50.0                121   \n",
      "3                1221               52.4                161   \n",
      "4                 823               51.3                104   \n",
      "5                1303               49.3                148   \n",
      "6                1095               51.0                111   \n",
      "7                1580               54.2                149   \n",
      "8                1344               54.8                124   \n",
      "9                1416               52.0                 87   \n",
      "10               1279               48.8                120   \n",
      "11               1353               56.7                116   \n",
      "12               1354               56.5                103   \n",
      "13               1169               53.1                 54   \n",
      "14               1485               51.0                 92   \n",
      "15               1528               50.3                129   \n",
      "16               1613               48.9                132   \n",
      "17               1642               48.4                113   \n",
      "18               1621               47.6                 99   \n",
      "19               1823               48.0                127   \n",
      "20               1684               47.2                108   \n",
      "21               1492               41.7                 63   \n",
      "\n",
      "   Unnamed: 9_level_0  ...  Traditional Splits                      \\\n",
      "                  3PA  ... Unnamed: 50_level_1 Unnamed: 51_level_1   \n",
      "0                 396  ...                 NaN                 NaN   \n",
      "1                 363  ...                 NaN                 NaN   \n",
      "2                 377  ...                 NaN                 NaN   \n",
      "3                 448  ...                 NaN                 NaN   \n",
      "4                 285  ...                 NaN                 NaN   \n",
      "5                 425  ...                 NaN                 NaN   \n",
      "6                 327  ...                 NaN                 NaN   \n",
      "7                 406  ...                 NaN                 NaN   \n",
      "8                 342  ...                 NaN                 NaN   \n",
      "9                 282  ...                 NaN                 NaN   \n",
      "10                339  ...                 NaN                 NaN   \n",
      "11                306  ...                 NaN                 NaN   \n",
      "12                254  ...                 NaN                 NaN   \n",
      "13                149  ...                 NaN                 NaN   \n",
      "14                279  ...                 NaN                 NaN   \n",
      "15                387  ...                 NaN                 NaN   \n",
      "16                384  ...                 NaN                 NaN   \n",
      "17                359  ...                 NaN                 NaN   \n",
      "18                310  ...                 NaN                 NaN   \n",
      "19                379  ...                 NaN                 NaN   \n",
      "20                308  ...                 NaN                 NaN   \n",
      "21                217  ...                 NaN                 NaN   \n",
      "\n",
      "                                                                \\\n",
      "   Unnamed: 52_level_1 Unnamed: 53_level_1 Unnamed: 54_level_1   \n",
      "0                  NaN                 NaN                 NaN   \n",
      "1                  NaN                 NaN                 NaN   \n",
      "2                  NaN                 NaN                 NaN   \n",
      "3                  NaN                 NaN                 NaN   \n",
      "4                  NaN                 NaN                 NaN   \n",
      "5                  NaN                 NaN                 NaN   \n",
      "6                  NaN                 NaN                 NaN   \n",
      "7                  NaN                 NaN                 NaN   \n",
      "8                  NaN                 NaN                 NaN   \n",
      "9                  NaN                 NaN                 NaN   \n",
      "10                 NaN                 NaN                 NaN   \n",
      "11                 NaN                 NaN                 NaN   \n",
      "12                 NaN                 NaN                 NaN   \n",
      "13                 NaN                 NaN                 NaN   \n",
      "14                 NaN                 NaN                 NaN   \n",
      "15                 NaN                 NaN                 NaN   \n",
      "16                 NaN                 NaN                 NaN   \n",
      "17                 NaN                 NaN                 NaN   \n",
      "18                 NaN                 NaN                 NaN   \n",
      "19                 NaN                 NaN                 NaN   \n",
      "20                 NaN                 NaN                 NaN   \n",
      "21                 NaN                 NaN                 NaN   \n",
      "\n",
      "                                                                \\\n",
      "   Unnamed: 55_level_1 Unnamed: 56_level_1 Unnamed: 57_level_1   \n",
      "0                  NaN                 NaN                 NaN   \n",
      "1                  NaN                 NaN                 NaN   \n",
      "2                  NaN                 NaN                 NaN   \n",
      "3                  NaN                 NaN                 NaN   \n",
      "4                  NaN                 NaN                 NaN   \n",
      "5                  NaN                 NaN                 NaN   \n",
      "6                  NaN                 NaN                 NaN   \n",
      "7                  NaN                 NaN                 NaN   \n",
      "8                  NaN                 NaN                 NaN   \n",
      "9                  NaN                 NaN                 NaN   \n",
      "10                 NaN                 NaN                 NaN   \n",
      "11                 NaN                 NaN                 NaN   \n",
      "12                 NaN                 NaN                 NaN   \n",
      "13                 NaN                 NaN                 NaN   \n",
      "14                 NaN                 NaN                 NaN   \n",
      "15                 NaN                 NaN                 NaN   \n",
      "16                 NaN                 NaN                 NaN   \n",
      "17                 NaN                 NaN                 NaN   \n",
      "18                 NaN                 NaN                 NaN   \n",
      "19                 NaN                 NaN                 NaN   \n",
      "20                 NaN                 NaN                 NaN   \n",
      "21                 NaN                 NaN                 NaN   \n",
      "\n",
      "                                            \n",
      "   Unnamed: 58_level_1 Unnamed: 59_level_1  \n",
      "0                  NaN                 NaN  \n",
      "1                  NaN                 NaN  \n",
      "2                  NaN                 NaN  \n",
      "3                  NaN                 NaN  \n",
      "4                  NaN                 NaN  \n",
      "5                  NaN                 NaN  \n",
      "6                  NaN                 NaN  \n",
      "7                  NaN                 NaN  \n",
      "8                  NaN                 NaN  \n",
      "9                  NaN                 NaN  \n",
      "10                 NaN                 NaN  \n",
      "11                 NaN                 NaN  \n",
      "12                 NaN                 NaN  \n",
      "13                 NaN                 NaN  \n",
      "14                 NaN                 NaN  \n",
      "15                 NaN                 NaN  \n",
      "16                 NaN                 NaN  \n",
      "17                 NaN                 NaN  \n",
      "18                 NaN                 NaN  \n",
      "19                 NaN                 NaN  \n",
      "20                 NaN                 NaN  \n",
      "21                 NaN                 NaN  \n",
      "\n",
      "[22 rows x 60 columns]\n",
      "⚠️ No tables found for URL: https://www.nba.com/stats/player/201939?PerMode=Totals\n"
     ]
    },
    {
     "name": "stderr",
     "output_type": "stream",
     "text": [
      "/var/folders/q3/8qym1tc95f7cd10lgyrzk_7c0000gn/T/ipykernel_24440/3863427539.py:39: FutureWarning: Passing literal html to 'read_html' is deprecated and will be removed in a future version. To read from a literal string, wrap it in a 'StringIO' object.\n",
      "  df = pd.read_html(str(table))[0]\n"
     ]
    },
    {
     "name": "stdout",
     "output_type": "stream",
     "text": [
      "                     0               1       2\n",
      "0                 Stat  Current Season  Career\n",
      "1               Points             NaN     NaN\n",
      "2             Rebounds             NaN     NaN\n",
      "3              Assists             NaN     NaN\n",
      "4               Steals             NaN     NaN\n",
      "5     Field Goals Made             NaN     NaN\n",
      "6     Free Throws Made             NaN     NaN\n",
      "7  Three Pointers Made             NaN     NaN\n",
      "8               Blocks             NaN     NaN\n",
      "⚠️ No tables found for URL: https://www.nba.com/stats/player/203999?SeasonType=Regular+Season&PerMode=Totals\n"
     ]
    }
   ],
   "source": [
    "from selenium import webdriver\n",
    "from selenium.webdriver.chrome.service import Service\n",
    "from selenium.webdriver.common.by import By\n",
    "from webdriver_manager.chrome import ChromeDriverManager\n",
    "import pandas as pd\n",
    "\n",
    "# Setup Selenium WebDriver (this will handle the browser automation)\n",
    "driver = webdriver.Chrome(service=Service(ChromeDriverManager().install()))\n",
    "\n",
    "players = [\"https://www.nba.com/stats/player/2544?SeasonType=Regular+Season&PerMode=Totals\", \"https://www.nba.com/stats/player/201939?PerMode=Totals\", \"https://www.nba.com/stats/player/977/career\", \"https://www.nba.com/stats/player/203999?SeasonType=Regular+Season&PerMode=Totals\"]\n",
    "\n",
    "\n",
    "for url in players:\n",
    "    # Open the URL\n",
    "    driver.get(url)\n",
    "\n",
    "    # Wait for the page to fully load (you might need to adjust this)\n",
    "    driver.implicitly_wait(10)\n",
    "\n",
    "    # Now, extract the page source after it has been fully loaded\n",
    "    page_source = driver.page_source\n",
    "\n",
    "    # You can use BeautifulSoup to parse this page source\n",
    "    from bs4 import BeautifulSoup\n",
    "    soup = BeautifulSoup(page_source, 'html.parser')\n",
    "\n",
    "    # Find all tables in the page\n",
    "    tables = soup.find_all('table')\n",
    "\n",
    "    # Loop through the tables and convert them to pandas DataFrames\n",
    "    dfs = []\n",
    "    for table in tables:\n",
    "        # Convert each table into a pandas DataFrame\n",
    "        df = pd.read_html(str(table))[0]\n",
    "        dfs.append(df)\n",
    "\n",
    "    # Display the first table (or adjust based on the table you want)\n",
    "    print(dfs[0])\n",
    "\n",
    "# Close the browser window\n",
    "driver.quit()\n"
   ]
  },
  {
   "cell_type": "code",
   "execution_count": 20,
   "id": "4b1955ab",
   "metadata": {},
   "outputs": [
    {
     "name": "stderr",
     "output_type": "stream",
     "text": [
      "/var/folders/q3/8qym1tc95f7cd10lgyrzk_7c0000gn/T/ipykernel_24440/253041381.py:50: FutureWarning: Passing literal html to 'read_html' is deprecated and will be removed in a future version. To read from a literal string, wrap it in a 'StringIO' object.\n",
      "  df = pd.read_html(str(table))[0]\n"
     ]
    },
    {
     "name": "stdout",
     "output_type": "stream",
     "text": [
      "✔️ Saved main table for player LEBRON\n",
      "JAMES to player_LEBRON\n",
      "JAMES_stats.csv\n"
     ]
    },
    {
     "name": "stderr",
     "output_type": "stream",
     "text": [
      "/var/folders/q3/8qym1tc95f7cd10lgyrzk_7c0000gn/T/ipykernel_24440/253041381.py:50: FutureWarning: Passing literal html to 'read_html' is deprecated and will be removed in a future version. To read from a literal string, wrap it in a 'StringIO' object.\n",
      "  df = pd.read_html(str(table))[0]\n"
     ]
    },
    {
     "name": "stdout",
     "output_type": "stream",
     "text": [
      "✔️ Saved main table for player STEPHEN\n",
      "CURRY to player_STEPHEN\n",
      "CURRY_stats.csv\n"
     ]
    },
    {
     "name": "stderr",
     "output_type": "stream",
     "text": [
      "/var/folders/q3/8qym1tc95f7cd10lgyrzk_7c0000gn/T/ipykernel_24440/253041381.py:50: FutureWarning: Passing literal html to 'read_html' is deprecated and will be removed in a future version. To read from a literal string, wrap it in a 'StringIO' object.\n",
      "  df = pd.read_html(str(table))[0]\n"
     ]
    },
    {
     "name": "stdout",
     "output_type": "stream",
     "text": [
      "✔️ Saved main table for player KOBE\n",
      "BRYANT to player_KOBE\n",
      "BRYANT_stats.csv\n"
     ]
    },
    {
     "name": "stderr",
     "output_type": "stream",
     "text": [
      "/var/folders/q3/8qym1tc95f7cd10lgyrzk_7c0000gn/T/ipykernel_24440/253041381.py:50: FutureWarning: Passing literal html to 'read_html' is deprecated and will be removed in a future version. To read from a literal string, wrap it in a 'StringIO' object.\n",
      "  df = pd.read_html(str(table))[0]\n"
     ]
    },
    {
     "name": "stdout",
     "output_type": "stream",
     "text": [
      "✔️ Saved main table for player NIKOLA\n",
      "JOKIĆ to player_NIKOLA\n",
      "JOKIĆ_stats.csv\n"
     ]
    },
    {
     "name": "stderr",
     "output_type": "stream",
     "text": [
      "/var/folders/q3/8qym1tc95f7cd10lgyrzk_7c0000gn/T/ipykernel_24440/253041381.py:50: FutureWarning: Passing literal html to 'read_html' is deprecated and will be removed in a future version. To read from a literal string, wrap it in a 'StringIO' object.\n",
      "  df = pd.read_html(str(table))[0]\n"
     ]
    },
    {
     "name": "stdout",
     "output_type": "stream",
     "text": [
      "✔️ Saved main table for player SHAQUILLE\n",
      "O'NEAL to player_SHAQUILLE\n",
      "O'NEAL_stats.csv\n"
     ]
    },
    {
     "name": "stderr",
     "output_type": "stream",
     "text": [
      "/var/folders/q3/8qym1tc95f7cd10lgyrzk_7c0000gn/T/ipykernel_24440/253041381.py:50: FutureWarning: Passing literal html to 'read_html' is deprecated and will be removed in a future version. To read from a literal string, wrap it in a 'StringIO' object.\n",
      "  df = pd.read_html(str(table))[0]\n"
     ]
    },
    {
     "name": "stdout",
     "output_type": "stream",
     "text": [
      "✔️ Saved main table for player RUSSELL\n",
      "WESTBROOK to player_RUSSELL\n",
      "WESTBROOK_stats.csv\n"
     ]
    },
    {
     "name": "stderr",
     "output_type": "stream",
     "text": [
      "/var/folders/q3/8qym1tc95f7cd10lgyrzk_7c0000gn/T/ipykernel_24440/253041381.py:50: FutureWarning: Passing literal html to 'read_html' is deprecated and will be removed in a future version. To read from a literal string, wrap it in a 'StringIO' object.\n",
      "  df = pd.read_html(str(table))[0]\n"
     ]
    },
    {
     "name": "stdout",
     "output_type": "stream",
     "text": [
      "✔️ Saved main table for player GIANNIS\n",
      "ANTETOKOUNMPO to player_GIANNIS\n",
      "ANTETOKOUNMPO_stats.csv\n",
      "Done. DataFrames created for: ['203999']\n"
     ]
    }
   ],
   "source": [
    "# scrape_multi_players.py\n",
    "\n",
    "from selenium import webdriver\n",
    "from selenium.webdriver.chrome.service import Service\n",
    "from selenium.webdriver.chrome.options import Options\n",
    "from webdriver_manager.chrome import ChromeDriverManager\n",
    "from bs4 import BeautifulSoup\n",
    "import pandas as pd\n",
    "import time\n",
    "import re\n",
    "\n",
    "# --- Set up Chrome WebDriver ---\n",
    "options = Options()\n",
    "# options.add_argument(\"--headless\")      # Uncomment to run in background\n",
    "options.add_argument(\"--no-sandbox\")\n",
    "options.add_argument(\"--disable-dev-shm-usage\")\n",
    "\n",
    "service = Service(ChromeDriverManager().install())\n",
    "driver = webdriver.Chrome(service=service, options=options)\n",
    "\n",
    "# --- List of player-stats URLs ---\n",
    "players = [\n",
    "    \"https://www.nba.com/stats/player/2544?SeasonType=Regular+Season&PerMode=Totals\",\n",
    "    \"https://www.nba.com/stats/player/201939?PerMode=Totals\",\n",
    "    \"https://www.nba.com/stats/player/977/career\",\n",
    "    \"https://www.nba.com/stats/player/203999?SeasonType=Regular+Season&PerMode=Totals\", \n",
    "    \"https://www.nba.com/stats/player/406/career?PerMode=Totals\",\n",
    "    \"https://www.nba.com/stats/player/201566?SeasonType=Regular+Season&PerMode=Totals\",\n",
    "    \"https://www.nba.com/stats/player/203507?SeasonType=Regular+Season&PerMode=Totals\"\n",
    "]\n",
    "\n",
    "# Will hold your DataFrames if you need them after the loop\n",
    "all_dfs = {}\n",
    "\n",
    "for url in players:\n",
    "    driver.get(url)\n",
    "    # give JS time to render the table\n",
    "    time.sleep(8)\n",
    "\n",
    "    # pull in the rendered DOM\n",
    "    soup = BeautifulSoup(driver.page_source, \"html.parser\")\n",
    "\n",
    "    # find the first <table> on the page\n",
    "    table = soup.find(\"table\")\n",
    "    if table is None:\n",
    "        print(f\"No table found at {url}\")\n",
    "        continue\n",
    "\n",
    "    # pandas will parse out the HTML table for us\n",
    "    df = pd.read_html(str(table))[0]\n",
    "\n",
    "    # extract the player ID from the URL for naming\n",
    "    name = driver.find_element(By.CLASS_NAME, \"PlayerSummary_playerNameText___MhqC\").text\n",
    "\n",
    "\n",
    "    # save to CSV\n",
    "    csv_name = f\"player_{name}_stats.csv\"\n",
    "    df.to_csv(csv_name, index=False)\n",
    "    print(f\"✔️ Saved main table for player {name} to {csv_name}\")\n",
    "\n",
    "    # stash the DataFrame if you need it later\n",
    "    all_dfs[pid] = df\n",
    "\n",
    "driver.quit()\n",
    "\n",
    "# optional: do something with all_dfs, e.g. display keys\n",
    "print(\"Done. DataFrames created for:\", list(all_dfs.keys()))\n",
    "\n"
   ]
  },
  {
   "cell_type": "code",
   "execution_count": null,
   "id": "b34437ba",
   "metadata": {},
   "outputs": [
    {
     "ename": "FileNotFoundError",
     "evalue": "[Errno 2] No such file or directory: 'player_LeBron James_stats.csv'",
     "output_type": "error",
     "traceback": [
      "\u001b[0;31m---------------------------------------------------------------------------\u001b[0m",
      "\u001b[0;31mFileNotFoundError\u001b[0m                         Traceback (most recent call last)",
      "Cell \u001b[0;32mIn[18], line 4\u001b[0m\n\u001b[1;32m      1\u001b[0m \u001b[38;5;28;01mimport\u001b[39;00m \u001b[38;5;21;01mpandas\u001b[39;00m \u001b[38;5;28;01mas\u001b[39;00m \u001b[38;5;21;01mpd\u001b[39;00m\n\u001b[1;32m      3\u001b[0m \u001b[38;5;66;03m# Read the CSV file into a DataFrame\u001b[39;00m\n\u001b[0;32m----> 4\u001b[0m df \u001b[38;5;241m=\u001b[39m \u001b[43mpd\u001b[49m\u001b[38;5;241;43m.\u001b[39;49m\u001b[43mread_csv\u001b[49m\u001b[43m(\u001b[49m\u001b[38;5;124;43m\"\u001b[39;49m\u001b[38;5;124;43mplayer_LeBron James_stats.csv\u001b[39;49m\u001b[38;5;124;43m\"\u001b[39;49m\u001b[43m)\u001b[49m\n\u001b[1;32m      5\u001b[0m \u001b[38;5;28mprint\u001b[39m(df)\n",
      "File \u001b[0;32m/opt/anaconda3/envs/is310/lib/python3.9/site-packages/pandas/io/parsers/readers.py:1026\u001b[0m, in \u001b[0;36mread_csv\u001b[0;34m(filepath_or_buffer, sep, delimiter, header, names, index_col, usecols, dtype, engine, converters, true_values, false_values, skipinitialspace, skiprows, skipfooter, nrows, na_values, keep_default_na, na_filter, verbose, skip_blank_lines, parse_dates, infer_datetime_format, keep_date_col, date_parser, date_format, dayfirst, cache_dates, iterator, chunksize, compression, thousands, decimal, lineterminator, quotechar, quoting, doublequote, escapechar, comment, encoding, encoding_errors, dialect, on_bad_lines, delim_whitespace, low_memory, memory_map, float_precision, storage_options, dtype_backend)\u001b[0m\n\u001b[1;32m   1013\u001b[0m kwds_defaults \u001b[38;5;241m=\u001b[39m _refine_defaults_read(\n\u001b[1;32m   1014\u001b[0m     dialect,\n\u001b[1;32m   1015\u001b[0m     delimiter,\n\u001b[0;32m   (...)\u001b[0m\n\u001b[1;32m   1022\u001b[0m     dtype_backend\u001b[38;5;241m=\u001b[39mdtype_backend,\n\u001b[1;32m   1023\u001b[0m )\n\u001b[1;32m   1024\u001b[0m kwds\u001b[38;5;241m.\u001b[39mupdate(kwds_defaults)\n\u001b[0;32m-> 1026\u001b[0m \u001b[38;5;28;01mreturn\u001b[39;00m \u001b[43m_read\u001b[49m\u001b[43m(\u001b[49m\u001b[43mfilepath_or_buffer\u001b[49m\u001b[43m,\u001b[49m\u001b[43m \u001b[49m\u001b[43mkwds\u001b[49m\u001b[43m)\u001b[49m\n",
      "File \u001b[0;32m/opt/anaconda3/envs/is310/lib/python3.9/site-packages/pandas/io/parsers/readers.py:620\u001b[0m, in \u001b[0;36m_read\u001b[0;34m(filepath_or_buffer, kwds)\u001b[0m\n\u001b[1;32m    617\u001b[0m _validate_names(kwds\u001b[38;5;241m.\u001b[39mget(\u001b[38;5;124m\"\u001b[39m\u001b[38;5;124mnames\u001b[39m\u001b[38;5;124m\"\u001b[39m, \u001b[38;5;28;01mNone\u001b[39;00m))\n\u001b[1;32m    619\u001b[0m \u001b[38;5;66;03m# Create the parser.\u001b[39;00m\n\u001b[0;32m--> 620\u001b[0m parser \u001b[38;5;241m=\u001b[39m \u001b[43mTextFileReader\u001b[49m\u001b[43m(\u001b[49m\u001b[43mfilepath_or_buffer\u001b[49m\u001b[43m,\u001b[49m\u001b[43m \u001b[49m\u001b[38;5;241;43m*\u001b[39;49m\u001b[38;5;241;43m*\u001b[39;49m\u001b[43mkwds\u001b[49m\u001b[43m)\u001b[49m\n\u001b[1;32m    622\u001b[0m \u001b[38;5;28;01mif\u001b[39;00m chunksize \u001b[38;5;129;01mor\u001b[39;00m iterator:\n\u001b[1;32m    623\u001b[0m     \u001b[38;5;28;01mreturn\u001b[39;00m parser\n",
      "File \u001b[0;32m/opt/anaconda3/envs/is310/lib/python3.9/site-packages/pandas/io/parsers/readers.py:1620\u001b[0m, in \u001b[0;36mTextFileReader.__init__\u001b[0;34m(self, f, engine, **kwds)\u001b[0m\n\u001b[1;32m   1617\u001b[0m     \u001b[38;5;28mself\u001b[39m\u001b[38;5;241m.\u001b[39moptions[\u001b[38;5;124m\"\u001b[39m\u001b[38;5;124mhas_index_names\u001b[39m\u001b[38;5;124m\"\u001b[39m] \u001b[38;5;241m=\u001b[39m kwds[\u001b[38;5;124m\"\u001b[39m\u001b[38;5;124mhas_index_names\u001b[39m\u001b[38;5;124m\"\u001b[39m]\n\u001b[1;32m   1619\u001b[0m \u001b[38;5;28mself\u001b[39m\u001b[38;5;241m.\u001b[39mhandles: IOHandles \u001b[38;5;241m|\u001b[39m \u001b[38;5;28;01mNone\u001b[39;00m \u001b[38;5;241m=\u001b[39m \u001b[38;5;28;01mNone\u001b[39;00m\n\u001b[0;32m-> 1620\u001b[0m \u001b[38;5;28mself\u001b[39m\u001b[38;5;241m.\u001b[39m_engine \u001b[38;5;241m=\u001b[39m \u001b[38;5;28;43mself\u001b[39;49m\u001b[38;5;241;43m.\u001b[39;49m\u001b[43m_make_engine\u001b[49m\u001b[43m(\u001b[49m\u001b[43mf\u001b[49m\u001b[43m,\u001b[49m\u001b[43m \u001b[49m\u001b[38;5;28;43mself\u001b[39;49m\u001b[38;5;241;43m.\u001b[39;49m\u001b[43mengine\u001b[49m\u001b[43m)\u001b[49m\n",
      "File \u001b[0;32m/opt/anaconda3/envs/is310/lib/python3.9/site-packages/pandas/io/parsers/readers.py:1880\u001b[0m, in \u001b[0;36mTextFileReader._make_engine\u001b[0;34m(self, f, engine)\u001b[0m\n\u001b[1;32m   1878\u001b[0m     \u001b[38;5;28;01mif\u001b[39;00m \u001b[38;5;124m\"\u001b[39m\u001b[38;5;124mb\u001b[39m\u001b[38;5;124m\"\u001b[39m \u001b[38;5;129;01mnot\u001b[39;00m \u001b[38;5;129;01min\u001b[39;00m mode:\n\u001b[1;32m   1879\u001b[0m         mode \u001b[38;5;241m+\u001b[39m\u001b[38;5;241m=\u001b[39m \u001b[38;5;124m\"\u001b[39m\u001b[38;5;124mb\u001b[39m\u001b[38;5;124m\"\u001b[39m\n\u001b[0;32m-> 1880\u001b[0m \u001b[38;5;28mself\u001b[39m\u001b[38;5;241m.\u001b[39mhandles \u001b[38;5;241m=\u001b[39m \u001b[43mget_handle\u001b[49m\u001b[43m(\u001b[49m\n\u001b[1;32m   1881\u001b[0m \u001b[43m    \u001b[49m\u001b[43mf\u001b[49m\u001b[43m,\u001b[49m\n\u001b[1;32m   1882\u001b[0m \u001b[43m    \u001b[49m\u001b[43mmode\u001b[49m\u001b[43m,\u001b[49m\n\u001b[1;32m   1883\u001b[0m \u001b[43m    \u001b[49m\u001b[43mencoding\u001b[49m\u001b[38;5;241;43m=\u001b[39;49m\u001b[38;5;28;43mself\u001b[39;49m\u001b[38;5;241;43m.\u001b[39;49m\u001b[43moptions\u001b[49m\u001b[38;5;241;43m.\u001b[39;49m\u001b[43mget\u001b[49m\u001b[43m(\u001b[49m\u001b[38;5;124;43m\"\u001b[39;49m\u001b[38;5;124;43mencoding\u001b[39;49m\u001b[38;5;124;43m\"\u001b[39;49m\u001b[43m,\u001b[49m\u001b[43m \u001b[49m\u001b[38;5;28;43;01mNone\u001b[39;49;00m\u001b[43m)\u001b[49m\u001b[43m,\u001b[49m\n\u001b[1;32m   1884\u001b[0m \u001b[43m    \u001b[49m\u001b[43mcompression\u001b[49m\u001b[38;5;241;43m=\u001b[39;49m\u001b[38;5;28;43mself\u001b[39;49m\u001b[38;5;241;43m.\u001b[39;49m\u001b[43moptions\u001b[49m\u001b[38;5;241;43m.\u001b[39;49m\u001b[43mget\u001b[49m\u001b[43m(\u001b[49m\u001b[38;5;124;43m\"\u001b[39;49m\u001b[38;5;124;43mcompression\u001b[39;49m\u001b[38;5;124;43m\"\u001b[39;49m\u001b[43m,\u001b[49m\u001b[43m \u001b[49m\u001b[38;5;28;43;01mNone\u001b[39;49;00m\u001b[43m)\u001b[49m\u001b[43m,\u001b[49m\n\u001b[1;32m   1885\u001b[0m \u001b[43m    \u001b[49m\u001b[43mmemory_map\u001b[49m\u001b[38;5;241;43m=\u001b[39;49m\u001b[38;5;28;43mself\u001b[39;49m\u001b[38;5;241;43m.\u001b[39;49m\u001b[43moptions\u001b[49m\u001b[38;5;241;43m.\u001b[39;49m\u001b[43mget\u001b[49m\u001b[43m(\u001b[49m\u001b[38;5;124;43m\"\u001b[39;49m\u001b[38;5;124;43mmemory_map\u001b[39;49m\u001b[38;5;124;43m\"\u001b[39;49m\u001b[43m,\u001b[49m\u001b[43m \u001b[49m\u001b[38;5;28;43;01mFalse\u001b[39;49;00m\u001b[43m)\u001b[49m\u001b[43m,\u001b[49m\n\u001b[1;32m   1886\u001b[0m \u001b[43m    \u001b[49m\u001b[43mis_text\u001b[49m\u001b[38;5;241;43m=\u001b[39;49m\u001b[43mis_text\u001b[49m\u001b[43m,\u001b[49m\n\u001b[1;32m   1887\u001b[0m \u001b[43m    \u001b[49m\u001b[43merrors\u001b[49m\u001b[38;5;241;43m=\u001b[39;49m\u001b[38;5;28;43mself\u001b[39;49m\u001b[38;5;241;43m.\u001b[39;49m\u001b[43moptions\u001b[49m\u001b[38;5;241;43m.\u001b[39;49m\u001b[43mget\u001b[49m\u001b[43m(\u001b[49m\u001b[38;5;124;43m\"\u001b[39;49m\u001b[38;5;124;43mencoding_errors\u001b[39;49m\u001b[38;5;124;43m\"\u001b[39;49m\u001b[43m,\u001b[49m\u001b[43m \u001b[49m\u001b[38;5;124;43m\"\u001b[39;49m\u001b[38;5;124;43mstrict\u001b[39;49m\u001b[38;5;124;43m\"\u001b[39;49m\u001b[43m)\u001b[49m\u001b[43m,\u001b[49m\n\u001b[1;32m   1888\u001b[0m \u001b[43m    \u001b[49m\u001b[43mstorage_options\u001b[49m\u001b[38;5;241;43m=\u001b[39;49m\u001b[38;5;28;43mself\u001b[39;49m\u001b[38;5;241;43m.\u001b[39;49m\u001b[43moptions\u001b[49m\u001b[38;5;241;43m.\u001b[39;49m\u001b[43mget\u001b[49m\u001b[43m(\u001b[49m\u001b[38;5;124;43m\"\u001b[39;49m\u001b[38;5;124;43mstorage_options\u001b[39;49m\u001b[38;5;124;43m\"\u001b[39;49m\u001b[43m,\u001b[49m\u001b[43m \u001b[49m\u001b[38;5;28;43;01mNone\u001b[39;49;00m\u001b[43m)\u001b[49m\u001b[43m,\u001b[49m\n\u001b[1;32m   1889\u001b[0m \u001b[43m\u001b[49m\u001b[43m)\u001b[49m\n\u001b[1;32m   1890\u001b[0m \u001b[38;5;28;01massert\u001b[39;00m \u001b[38;5;28mself\u001b[39m\u001b[38;5;241m.\u001b[39mhandles \u001b[38;5;129;01mis\u001b[39;00m \u001b[38;5;129;01mnot\u001b[39;00m \u001b[38;5;28;01mNone\u001b[39;00m\n\u001b[1;32m   1891\u001b[0m f \u001b[38;5;241m=\u001b[39m \u001b[38;5;28mself\u001b[39m\u001b[38;5;241m.\u001b[39mhandles\u001b[38;5;241m.\u001b[39mhandle\n",
      "File \u001b[0;32m/opt/anaconda3/envs/is310/lib/python3.9/site-packages/pandas/io/common.py:873\u001b[0m, in \u001b[0;36mget_handle\u001b[0;34m(path_or_buf, mode, encoding, compression, memory_map, is_text, errors, storage_options)\u001b[0m\n\u001b[1;32m    868\u001b[0m \u001b[38;5;28;01melif\u001b[39;00m \u001b[38;5;28misinstance\u001b[39m(handle, \u001b[38;5;28mstr\u001b[39m):\n\u001b[1;32m    869\u001b[0m     \u001b[38;5;66;03m# Check whether the filename is to be opened in binary mode.\u001b[39;00m\n\u001b[1;32m    870\u001b[0m     \u001b[38;5;66;03m# Binary mode does not support 'encoding' and 'newline'.\u001b[39;00m\n\u001b[1;32m    871\u001b[0m     \u001b[38;5;28;01mif\u001b[39;00m ioargs\u001b[38;5;241m.\u001b[39mencoding \u001b[38;5;129;01mand\u001b[39;00m \u001b[38;5;124m\"\u001b[39m\u001b[38;5;124mb\u001b[39m\u001b[38;5;124m\"\u001b[39m \u001b[38;5;129;01mnot\u001b[39;00m \u001b[38;5;129;01min\u001b[39;00m ioargs\u001b[38;5;241m.\u001b[39mmode:\n\u001b[1;32m    872\u001b[0m         \u001b[38;5;66;03m# Encoding\u001b[39;00m\n\u001b[0;32m--> 873\u001b[0m         handle \u001b[38;5;241m=\u001b[39m \u001b[38;5;28;43mopen\u001b[39;49m\u001b[43m(\u001b[49m\n\u001b[1;32m    874\u001b[0m \u001b[43m            \u001b[49m\u001b[43mhandle\u001b[49m\u001b[43m,\u001b[49m\n\u001b[1;32m    875\u001b[0m \u001b[43m            \u001b[49m\u001b[43mioargs\u001b[49m\u001b[38;5;241;43m.\u001b[39;49m\u001b[43mmode\u001b[49m\u001b[43m,\u001b[49m\n\u001b[1;32m    876\u001b[0m \u001b[43m            \u001b[49m\u001b[43mencoding\u001b[49m\u001b[38;5;241;43m=\u001b[39;49m\u001b[43mioargs\u001b[49m\u001b[38;5;241;43m.\u001b[39;49m\u001b[43mencoding\u001b[49m\u001b[43m,\u001b[49m\n\u001b[1;32m    877\u001b[0m \u001b[43m            \u001b[49m\u001b[43merrors\u001b[49m\u001b[38;5;241;43m=\u001b[39;49m\u001b[43merrors\u001b[49m\u001b[43m,\u001b[49m\n\u001b[1;32m    878\u001b[0m \u001b[43m            \u001b[49m\u001b[43mnewline\u001b[49m\u001b[38;5;241;43m=\u001b[39;49m\u001b[38;5;124;43m\"\u001b[39;49m\u001b[38;5;124;43m\"\u001b[39;49m\u001b[43m,\u001b[49m\n\u001b[1;32m    879\u001b[0m \u001b[43m        \u001b[49m\u001b[43m)\u001b[49m\n\u001b[1;32m    880\u001b[0m     \u001b[38;5;28;01melse\u001b[39;00m:\n\u001b[1;32m    881\u001b[0m         \u001b[38;5;66;03m# Binary mode\u001b[39;00m\n\u001b[1;32m    882\u001b[0m         handle \u001b[38;5;241m=\u001b[39m \u001b[38;5;28mopen\u001b[39m(handle, ioargs\u001b[38;5;241m.\u001b[39mmode)\n",
      "\u001b[0;31mFileNotFoundError\u001b[0m: [Errno 2] No such file or directory: 'player_LeBron James_stats.csv'"
     ]
    }
   ],
   "source": []
  }
 ],
 "metadata": {
  "kernelspec": {
   "display_name": "is310",
   "language": "python",
   "name": "python3"
  },
  "language_info": {
   "codemirror_mode": {
    "name": "ipython",
    "version": 3
   },
   "file_extension": ".py",
   "mimetype": "text/x-python",
   "name": "python",
   "nbconvert_exporter": "python",
   "pygments_lexer": "ipython3",
   "version": "3.9.21"
  }
 },
 "nbformat": 4,
 "nbformat_minor": 5
}
