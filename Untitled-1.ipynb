{
 "cells": [
  {
   "cell_type": "code",
   "execution_count": 5,
   "id": "8344ad7b",
   "metadata": {},
   "outputs": [
    {
     "name": "stdout",
     "output_type": "stream",
     "text": [
      "Collecting selenium\n",
      "  Downloading selenium-4.31.0-py3-none-any.whl.metadata (7.5 kB)\n",
      "Requirement already satisfied: urllib3<3,>=1.26 in c:\\users\\jacob\\anaconda3\\envs\\is310\\lib\\site-packages (from urllib3[socks]<3,>=1.26->selenium) (2.3.0)\n",
      "Collecting trio~=0.17 (from selenium)\n",
      "  Downloading trio-0.29.0-py3-none-any.whl.metadata (8.5 kB)\n",
      "Collecting trio-websocket~=0.9 (from selenium)\n",
      "  Downloading trio_websocket-0.12.2-py3-none-any.whl.metadata (5.1 kB)\n",
      "Requirement already satisfied: certifi>=2021.10.8 in c:\\users\\jacob\\anaconda3\\envs\\is310\\lib\\site-packages (from selenium) (2024.12.14)\n",
      "Requirement already satisfied: typing_extensions~=4.9 in c:\\users\\jacob\\anaconda3\\envs\\is310\\lib\\site-packages (from selenium) (4.12.2)\n",
      "Requirement already satisfied: websocket-client~=1.8 in c:\\users\\jacob\\anaconda3\\envs\\is310\\lib\\site-packages (from selenium) (1.8.0)\n",
      "Requirement already satisfied: attrs>=23.2.0 in c:\\users\\jacob\\anaconda3\\envs\\is310\\lib\\site-packages (from trio~=0.17->selenium) (24.3.0)\n",
      "Collecting sortedcontainers (from trio~=0.17->selenium)\n",
      "  Downloading sortedcontainers-2.4.0-py2.py3-none-any.whl.metadata (10 kB)\n",
      "Requirement already satisfied: idna in c:\\users\\jacob\\anaconda3\\envs\\is310\\lib\\site-packages (from trio~=0.17->selenium) (3.7)\n",
      "Collecting outcome (from trio~=0.17->selenium)\n",
      "  Downloading outcome-1.3.0.post0-py2.py3-none-any.whl.metadata (2.6 kB)\n",
      "Requirement already satisfied: sniffio>=1.3.0 in c:\\users\\jacob\\anaconda3\\envs\\is310\\lib\\site-packages (from trio~=0.17->selenium) (1.3.0)\n",
      "Requirement already satisfied: cffi>=1.14 in c:\\users\\jacob\\anaconda3\\envs\\is310\\lib\\site-packages (from trio~=0.17->selenium) (1.17.1)\n",
      "Requirement already satisfied: exceptiongroup in c:\\users\\jacob\\anaconda3\\envs\\is310\\lib\\site-packages (from trio~=0.17->selenium) (1.2.0)\n",
      "Collecting wsproto>=0.14 (from trio-websocket~=0.9->selenium)\n",
      "  Downloading wsproto-1.2.0-py3-none-any.whl.metadata (5.6 kB)\n",
      "Requirement already satisfied: pysocks!=1.5.7,<2.0,>=1.5.6 in c:\\users\\jacob\\anaconda3\\envs\\is310\\lib\\site-packages (from urllib3[socks]<3,>=1.26->selenium) (1.7.1)\n",
      "Requirement already satisfied: pycparser in c:\\users\\jacob\\anaconda3\\envs\\is310\\lib\\site-packages (from cffi>=1.14->trio~=0.17->selenium) (2.21)\n",
      "Requirement already satisfied: h11<1,>=0.9.0 in c:\\users\\jacob\\anaconda3\\envs\\is310\\lib\\site-packages (from wsproto>=0.14->trio-websocket~=0.9->selenium) (0.14.0)\n",
      "Downloading selenium-4.31.0-py3-none-any.whl (9.4 MB)\n",
      "   ---------------------------------------- 0.0/9.4 MB ? eta -:--:--\n",
      "   -- ------------------------------------- 0.5/9.4 MB 3.4 MB/s eta 0:00:03\n",
      "   ----- ---------------------------------- 1.3/9.4 MB 3.0 MB/s eta 0:00:03\n",
      "   -------- ------------------------------- 2.1/9.4 MB 3.5 MB/s eta 0:00:03\n",
      "   ----------- ---------------------------- 2.6/9.4 MB 3.4 MB/s eta 0:00:03\n",
      "   -------------- ------------------------- 3.4/9.4 MB 3.4 MB/s eta 0:00:02\n",
      "   ----------------- ---------------------- 4.2/9.4 MB 3.4 MB/s eta 0:00:02\n",
      "   --------------------- ------------------ 5.0/9.4 MB 3.4 MB/s eta 0:00:02\n",
      "   ------------------------ --------------- 5.8/9.4 MB 3.4 MB/s eta 0:00:02\n",
      "   ---------------------------- ----------- 6.6/9.4 MB 3.5 MB/s eta 0:00:01\n",
      "   ------------------------------- -------- 7.3/9.4 MB 3.5 MB/s eta 0:00:01\n",
      "   ---------------------------------- ----- 8.1/9.4 MB 3.5 MB/s eta 0:00:01\n",
      "   -------------------------------------- - 8.9/9.4 MB 3.5 MB/s eta 0:00:01\n",
      "   ---------------------------------------- 9.4/9.4 MB 3.5 MB/s eta 0:00:00\n",
      "Downloading trio-0.29.0-py3-none-any.whl (492 kB)\n",
      "Downloading trio_websocket-0.12.2-py3-none-any.whl (21 kB)\n",
      "Downloading outcome-1.3.0.post0-py2.py3-none-any.whl (10 kB)\n",
      "Downloading wsproto-1.2.0-py3-none-any.whl (24 kB)\n",
      "Downloading sortedcontainers-2.4.0-py2.py3-none-any.whl (29 kB)\n",
      "Installing collected packages: sortedcontainers, wsproto, outcome, trio, trio-websocket, selenium\n",
      "Successfully installed outcome-1.3.0.post0 selenium-4.31.0 sortedcontainers-2.4.0 trio-0.29.0 trio-websocket-0.12.2 wsproto-1.2.0\n",
      "Note: you may need to restart the kernel to use updated packages.\n"
     ]
    }
   ],
   "source": [
    "pip install selenium\n"
   ]
  },
  {
   "cell_type": "code",
   "execution_count": null,
   "id": "1a47a075",
   "metadata": {},
   "outputs": [],
   "source": [
    "from selenium import webdriver \n",
    "from selenium.webdriver.common.by import By\n"
   ]
  },
  {
   "cell_type": "code",
   "execution_count": null,
   "id": "af91e255",
   "metadata": {},
   "outputs": [],
   "source": [
    "driver= webdriver.Chrome()\n",
    "driver.get{\"https://www.nba.com/lakers/team/stats\"}\n",
    "stats=driver.find_elements{By.CLASS_NAME, \"\"}\n",
    "\n"
   ]
  },
  {
   "cell_type": "code",
   "execution_count": 15,
   "id": "8dbd5624",
   "metadata": {},
   "outputs": [
    {
     "name": "stdout",
     "output_type": "stream",
     "text": [
      "   Overall  GP   MIN    PTS   FGM   FGA   FG%   3PM   3PA   3P%  ...   FT%  \\\n",
      "0  2024-25  78  48.1  113.4  40.9  85.5  47.9  13.3  36.4  36.4  ...  78.9   \n",
      "\n",
      "  OREB  DREB   REB   AST    TO  STL  BLK    PF  +/-  \n",
      "0  9.6  32.9  42.4  26.1  13.8  7.7  4.5  17.3  1.3  \n",
      "\n",
      "[1 rows x 22 columns]\n"
     ]
    }
   ],
   "source": [
    "from selenium import webdriver\n",
    "from selenium.webdriver.chrome.service import Service\n",
    "from selenium.webdriver.chrome.options import Options\n",
    "import time\n",
    "from bs4 import BeautifulSoup\n",
    "import pandas as pd\n",
    "\n",
    "# --- Set up Chrome WebDriver ---\n",
    "options = Options()\n",
    "# options.add_argument(\"--headless\")  # Uncomment if you want to run in background\n",
    "options.add_argument(\"--no-sandbox\")\n",
    "options.add_argument(\"--disable-dev-shm-usage\")\n",
    "\n",
    "service = Service()  # Use your local ChromeDriver path if needed\n",
    "driver = webdriver.Chrome(service=service, options=options)\n",
    "\n",
    "# --- Load the Lakers stats page ---\n",
    "url = \"https://www.nba.com/lakers/team/stats\"\n",
    "driver.get(url)\n",
    "time.sleep(8)  # Wait for JavaScript to load the stats\n",
    "\n",
    "# --- Get the page content after rendering ---\n",
    "soup = BeautifulSoup(driver.page_source, \"html.parser\")\n",
    "driver.quit()\n",
    "\n",
    "# --- Find the stats table (robust search) ---\n",
    "table = soup.find(\"table\")\n",
    "if table is None:\n",
    "    raise ValueError(\"⚠️ Could not find the stats table. Try disabling headless mode or increasing wait time.\")\n",
    "\n",
    "# --- Extract headers ---\n",
    "thead = table.find(\"thead\")\n",
    "headers = [th.text.strip() for th in thead.find_all(\"th\")]\n",
    "\n",
    "# --- Extract player rows ---\n",
    "tbody = table.find(\"tbody\")\n",
    "rows = tbody.find_all(\"tr\")\n",
    "data = []\n",
    "for row in rows:\n",
    "    cells = [td.text.strip() for td in row.find_all(\"td\")]\n",
    "    data.append(cells)\n",
    "\n",
    "# --- Convert to DataFrame ---\n",
    "df = pd.DataFrame(data, columns=headers)\n",
    "\n",
    "# --- Save to CSV ---\n",
    "df.to_csv(\"lakers_team_stats.csv\", index=False)\n",
    "\n",
    "# --- Preview ---\n",
    "print(df.head())\n"
   ]
  }
 ],
 "metadata": {
  "kernelspec": {
   "display_name": "is310",
   "language": "python",
   "name": "python3"
  },
  "language_info": {
   "codemirror_mode": {
    "name": "ipython",
    "version": 3
   },
   "file_extension": ".py",
   "mimetype": "text/x-python",
   "name": "python",
   "nbconvert_exporter": "python",
   "pygments_lexer": "ipython3",
   "version": "3.9.21"
  }
 },
 "nbformat": 4,
 "nbformat_minor": 5
}
